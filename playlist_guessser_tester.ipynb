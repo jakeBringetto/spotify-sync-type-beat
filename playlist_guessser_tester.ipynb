{
 "cells": [
  {
   "cell_type": "code",
   "execution_count": 18,
   "metadata": {},
   "outputs": [],
   "source": [
    "from dotenv import load_dotenv\n",
    "import spotipy\n",
    "from spotipy.oauth2 import SpotifyOAuth\n",
    "import numpy as np\n",
    "from numpy import loadtxt\n",
    "import csv\n",
    "from sklearn.ensemble import RandomForestClassifier\n",
    "from sklearn.model_selection import train_test_split\n",
    "from sklearn.svm import SVC\n",
    "from sklearn.pipeline import make_pipeline\n",
    "from sklearn.preprocessing import StandardScaler"
   ]
  },
  {
   "cell_type": "code",
   "execution_count": 2,
   "metadata": {},
   "outputs": [],
   "source": [
    "load_dotenv()\n",
    "scope = 'playlist-modify-public'\n",
    "sp = spotipy.Spotify(auth_manager=SpotifyOAuth(scope=scope))\n",
    "playlists = sp.current_user_playlists()\n",
    "user_id = sp.me()['id']\n",
    "\n",
    "def accuracy(true, pred):\n",
    "    correct = 0\n",
    "    for i in range(len(true)):\n",
    "        if true[i] == pred[i]:\n",
    "            correct += 1\n",
    "    return correct/len(true)"
   ]
  },
  {
   "cell_type": "code",
   "execution_count": 3,
   "metadata": {},
   "outputs": [],
   "source": [
    "all_track_data = loadtxt('data.csv', delimiter=',')\n",
    "all_track_labels = []\n",
    "with open('labels.csv', newline='') as csvfile:\n",
    "    label_reader = csv.reader(csvfile, delimiter=',')\n",
    "    for row in label_reader:\n",
    "        for label in row:\n",
    "            all_track_labels.append(label[2:-2])\n",
    "all_track_labels = np.array([all_track_labels]).T"
   ]
  },
  {
   "cell_type": "markdown",
   "metadata": {},
   "source": [
    "#### Prepoccessing "
   ]
  },
  {
   "cell_type": "code",
   "execution_count": 4,
   "metadata": {},
   "outputs": [
    {
     "name": "stdout",
     "output_type": "stream",
     "text": [
      "(1931, 11) (483, 11) (1931, 1) (483, 1)\n"
     ]
    }
   ],
   "source": [
    "X_train, X_val, y_train, y_val = train_test_split(all_track_data, all_track_labels, test_size=0.2)\n",
    "print(X_train.shape, X_val.shape, y_train.shape, y_val.shape)"
   ]
  },
  {
   "cell_type": "markdown",
   "metadata": {},
   "source": [
    "### Begin Classification Below on all_track_data and all_track_labels"
   ]
  },
  {
   "cell_type": "markdown",
   "metadata": {},
   "source": [
    "#### Decision Tree Classifier"
   ]
  },
  {
   "cell_type": "markdown",
   "metadata": {},
   "source": [
    "##### Create and Train Random Forrest Classifier"
   ]
  },
  {
   "cell_type": "code",
   "execution_count": 5,
   "metadata": {},
   "outputs": [
    {
     "data": {
      "text/plain": [
       "RandomForestClassifier(criterion='entropy', max_depth=12, max_features='sqrt')"
      ]
     },
     "execution_count": 5,
     "metadata": {},
     "output_type": "execute_result"
    }
   ],
   "source": [
    "depth = 12\n",
    "estimators = 100\n",
    "model = RandomForestClassifier(max_depth=depth, n_estimators=estimators, criterion='entropy', max_features='sqrt')\n",
    "model.fit(all_track_data, np.ravel(all_track_labels))\n",
    "\n"
   ]
  },
  {
   "cell_type": "markdown",
   "metadata": {},
   "source": [
    "##### Test on training and validation datasets"
   ]
  },
  {
   "cell_type": "code",
   "execution_count": 6,
   "metadata": {},
   "outputs": [
    {
     "name": "stdout",
     "output_type": "stream",
     "text": [
      "Training Accuracy: 0.8591403417918178\n",
      "Validation Accuracy: 0.8240165631469979\n"
     ]
    }
   ],
   "source": [
    "y_train_pred = model.predict(X_train)\n",
    "y_val_pred = model.predict(X_val)\n",
    "train_acc = accuracy(y_train, y_train_pred)\n",
    "val_acc = accuracy(y_val, y_val_pred)\n",
    "\n",
    "print(\"Training Accuracy:\", train_acc)\n",
    "print(\"Validation Accuracy:\", val_acc)"
   ]
  },
  {
   "cell_type": "markdown",
   "metadata": {},
   "source": [
    "##### Hyper-param tuning"
   ]
  },
  {
   "cell_type": "code",
   "execution_count": 7,
   "metadata": {},
   "outputs": [
    {
     "name": "stdout",
     "output_type": "stream",
     "text": [
      "Depth: 1 | Estimators: 1 | Accuracy 0.14699792960662525\n",
      "Depth: 1 | Estimators: 10 | Accuracy 0.20910973084886128\n",
      "Depth: 1 | Estimators: 30 | Accuracy 0.19254658385093168\n",
      "Depth: 1 | Estimators: 50 | Accuracy 0.19461697722567287\n",
      "Depth: 1 | Estimators: 80 | Accuracy 0.16977225672877846\n",
      "Depth: 1 | Estimators: 100 | Accuracy 0.20910973084886128\n",
      "Depth: 1 | Estimators: 150 | Accuracy 0.19875776397515527\n",
      "Depth: 3 | Estimators: 1 | Accuracy 0.19461697722567287\n",
      "Depth: 3 | Estimators: 10 | Accuracy 0.2277432712215321\n",
      "Depth: 3 | Estimators: 30 | Accuracy 0.2712215320910973\n",
      "Depth: 3 | Estimators: 50 | Accuracy 0.2691511387163561\n",
      "Depth: 3 | Estimators: 80 | Accuracy 0.2795031055900621\n",
      "Depth: 3 | Estimators: 100 | Accuracy 0.2629399585921325\n",
      "Depth: 3 | Estimators: 150 | Accuracy 0.2629399585921325\n",
      "Depth: 5 | Estimators: 1 | Accuracy 0.2505175983436853\n",
      "Depth: 5 | Estimators: 10 | Accuracy 0.3333333333333333\n",
      "Depth: 5 | Estimators: 30 | Accuracy 0.3167701863354037\n",
      "Depth: 5 | Estimators: 50 | Accuracy 0.32298136645962733\n",
      "Depth: 5 | Estimators: 80 | Accuracy 0.33540372670807456\n",
      "Depth: 5 | Estimators: 100 | Accuracy 0.32298136645962733\n",
      "Depth: 5 | Estimators: 150 | Accuracy 0.33126293995859213\n",
      "Depth: 10 | Estimators: 1 | Accuracy 0.4554865424430642\n",
      "Depth: 10 | Estimators: 10 | Accuracy 0.7598343685300207\n",
      "Depth: 10 | Estimators: 30 | Accuracy 0.8012422360248447\n",
      "Depth: 10 | Estimators: 50 | Accuracy 0.7991718426501035\n",
      "Depth: 10 | Estimators: 80 | Accuracy 0.7991718426501035\n",
      "Depth: 10 | Estimators: 100 | Accuracy 0.7950310559006211\n",
      "Depth: 10 | Estimators: 150 | Accuracy 0.7971014492753623\n",
      "Depth: 12 | Estimators: 1 | Accuracy 0.5548654244306418\n",
      "Depth: 12 | Estimators: 10 | Accuracy 0.8157349896480331\n",
      "Depth: 12 | Estimators: 30 | Accuracy 0.8198757763975155\n",
      "Depth: 12 | Estimators: 50 | Accuracy 0.8136645962732919\n",
      "Depth: 12 | Estimators: 80 | Accuracy 0.8115942028985508\n",
      "Depth: 12 | Estimators: 100 | Accuracy 0.8385093167701864\n",
      "Depth: 12 | Estimators: 150 | Accuracy 0.8322981366459627\n",
      "Depth: 15 | Estimators: 1 | Accuracy 0.6459627329192547\n",
      "Depth: 15 | Estimators: 10 | Accuracy 0.8302277432712215\n",
      "Depth: 15 | Estimators: 30 | Accuracy 0.8260869565217391\n",
      "Depth: 15 | Estimators: 50 | Accuracy 0.8343685300207039\n",
      "Depth: 15 | Estimators: 80 | Accuracy 0.8095238095238095\n",
      "Depth: 15 | Estimators: 100 | Accuracy 0.8385093167701864\n",
      "Depth: 15 | Estimators: 150 | Accuracy 0.8322981366459627\n",
      "Depth: 20 | Estimators: 1 | Accuracy 0.6314699792960663\n",
      "Depth: 20 | Estimators: 10 | Accuracy 0.8260869565217391\n",
      "Depth: 20 | Estimators: 30 | Accuracy 0.8260869565217391\n",
      "Depth: 20 | Estimators: 50 | Accuracy 0.84472049689441\n",
      "Depth: 20 | Estimators: 80 | Accuracy 0.8343685300207039\n",
      "Depth: 20 | Estimators: 100 | Accuracy 0.8074534161490683\n",
      "Depth: 20 | Estimators: 150 | Accuracy 0.8260869565217391\n"
     ]
    }
   ],
   "source": [
    "depths = [1, 3, 5, 10, 12, 15, 20]\n",
    "estimators = [1, 10, 30, 50, 80, 100, 150]\n",
    "\n",
    "best_params = (0, 0)\n",
    "best_accuracy = 0\n",
    "for depth in depths:\n",
    "    for estimator in estimators:\n",
    "        model = RandomForestClassifier(max_depth=depth, n_estimators=estimator, criterion='entropy', max_features='sqrt')\n",
    "        model.fit(all_track_data, np.ravel(all_track_labels))\n",
    "        y_pred = model.predict(X_val)\n",
    "        val_acc = accuracy(y_val, y_pred)\n",
    "        print(\"Depth:\", depth, \"| Estimators:\", estimator, \"| Accuracy\", val_acc)\n",
    "        if val_acc > best_accuracy:\n",
    "            best_accuracy = val_acc\n",
    "            best_params = (depth, estimator)"
   ]
  },
  {
   "cell_type": "code",
   "execution_count": 8,
   "metadata": {},
   "outputs": [
    {
     "name": "stdout",
     "output_type": "stream",
     "text": [
      "Best Parameters and Accuracy:\n",
      "Depth: 20 | Estimators: 50 | Accuracy 0.84472049689441\n"
     ]
    }
   ],
   "source": [
    "print(\"Best Parameters and Accuracy:\")\n",
    "print(\"Depth:\", best_params[0], \"| Estimators:\", best_params[1], \"| Accuracy\", best_accuracy)"
   ]
  },
  {
   "cell_type": "markdown",
   "metadata": {},
   "source": [
    "#### Multiclass SVM\n"
   ]
  },
  {
   "cell_type": "code",
   "execution_count": 9,
   "metadata": {},
   "outputs": [],
   "source": [
    "all_track_data = loadtxt('data.csv', delimiter=',')\n",
    "all_track_labels = []\n",
    "with open('labels.csv', newline='') as csvfile:\n",
    "    label_reader = csv.reader(csvfile, delimiter=',')\n",
    "    for row in label_reader:\n",
    "        for label in row:\n",
    "            all_track_labels.append(label[2:-2])\n",
    "all_track_labels = np.array([all_track_labels]).T"
   ]
  },
  {
   "cell_type": "markdown",
   "metadata": {},
   "source": []
  },
  {
   "cell_type": "code",
   "execution_count": 19,
   "metadata": {},
   "outputs": [
    {
     "name": "stdout",
     "output_type": "stream",
     "text": [
      "(2414, 1)\n",
      "(2414, 11)\n"
     ]
    }
   ],
   "source": [
    "print(all_track_labels.shape)\n",
    "print(all_track_data.shape)"
   ]
  },
  {
   "cell_type": "code",
   "execution_count": 20,
   "metadata": {},
   "outputs": [
    {
     "name": "stdout",
     "output_type": "stream",
     "text": [
      "(1931, 11) (483, 11) (1931, 1) (483, 1)\n"
     ]
    }
   ],
   "source": [
    "X_train, X_val, y_train, y_val = train_test_split(all_track_data, all_track_labels, test_size=0.2)\n",
    "print(X_train.shape, X_val.shape, y_train.shape, y_val.shape)"
   ]
  },
  {
   "attachments": {},
   "cell_type": "markdown",
   "metadata": {},
   "source": [
    "### Training "
   ]
  },
  {
   "cell_type": "code",
   "execution_count": 30,
   "metadata": {},
   "outputs": [],
   "source": [
    "unique_labels = np.unique(all_track_labels)\n",
    "label_map = {}\n",
    "for label in unique_labels:\n",
    "    clf = make_pipeline(StandardScaler(), SVC(gamma='auto', probability = True))\n",
    "    y_temp = np.zeros(y_train.shape[0])\n",
    "    for i in range(len(y_temp)):\n",
    "        if y_train[i] == label:\n",
    "            y_temp[i] = 1\n",
    "    clf.fit(X_train, y_temp)\n",
    "    label_map[label] = clf\n",
    "    "
   ]
  },
  {
   "attachments": {},
   "cell_type": "markdown",
   "metadata": {},
   "source": [
    "### Testing with Validation"
   ]
  },
  {
   "cell_type": "code",
   "execution_count": 31,
   "metadata": {},
   "outputs": [
    {
     "name": "stdout",
     "output_type": "stream",
     "text": [
      "0.18012422360248448\n"
     ]
    }
   ],
   "source": [
    "y_pred = []\n",
    "for data in X_val:\n",
    "    y_pred.append(max(unique_labels, key = lambda x: label_map[x].predict_proba(data.reshape(1, -1))[0][1]))\n",
    "print(accuracy(y_val, y_pred))\n"
   ]
  },
  {
   "cell_type": "code",
   "execution_count": 37,
   "metadata": {},
   "outputs": [
    {
     "name": "stdout",
     "output_type": "stream",
     "text": [
      "['abstrakt hour']\n",
      "0.06629683940246311\n"
     ]
    }
   ],
   "source": [
    "print(y_val[0])\n",
    "print(label_map[y_val[0][0]].predict_proba(X_train[0].reshape(1, -1))[0][1])"
   ]
  },
  {
   "cell_type": "code",
   "execution_count": null,
   "metadata": {},
   "outputs": [],
   "source": []
  }
 ],
 "metadata": {
  "kernelspec": {
   "display_name": "Python 3.8.3 64-bit",
   "language": "python",
   "name": "python3"
  },
  "language_info": {
   "codemirror_mode": {
    "name": "ipython",
    "version": 3
   },
   "file_extension": ".py",
   "mimetype": "text/x-python",
   "name": "python",
   "nbconvert_exporter": "python",
   "pygments_lexer": "ipython3",
   "version": "3.8.3"
  },
  "orig_nbformat": 4,
  "vscode": {
   "interpreter": {
    "hash": "aee8b7b246df8f9039afb4144a1f6fd8d2ca17a180786b69acc140d282b71a49"
   }
  }
 },
 "nbformat": 4,
 "nbformat_minor": 2
}
