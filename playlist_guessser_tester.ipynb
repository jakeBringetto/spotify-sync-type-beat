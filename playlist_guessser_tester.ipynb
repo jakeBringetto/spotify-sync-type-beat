{
 "cells": [
  {
   "cell_type": "code",
   "execution_count": 2,
   "metadata": {},
   "outputs": [],
   "source": [
    "from dotenv import load_dotenv\n",
    "import spotipy\n",
    "from spotipy.oauth2 import SpotifyOAuth\n",
    "import numpy as np\n",
    "from numpy import loadtxt\n",
    "import csv\n",
    "from sklearn.ensemble import RandomForestClassifier\n",
    "from sklearn.model_selection import train_test_split"
   ]
  },
  {
   "cell_type": "code",
   "execution_count": 3,
   "metadata": {},
   "outputs": [],
   "source": [
    "load_dotenv()\n",
    "scope = 'playlist-modify-public'\n",
    "sp = spotipy.Spotify(auth_manager=SpotifyOAuth(scope=scope))\n",
    "playlists = sp.current_user_playlists()\n",
    "user_id = sp.me()['id']\n",
    "\n",
    "def accuracy(true, pred):\n",
    "    correct = 0\n",
    "    for i in range(len(true)):\n",
    "        if true[i] == pred[i]:\n",
    "            correct += 1\n",
    "    return correct/len(true)"
   ]
  },
  {
   "cell_type": "code",
   "execution_count": 4,
   "metadata": {},
   "outputs": [],
   "source": [
    "all_track_data = loadtxt('data.csv', delimiter=',')\n",
    "all_track_labels = []\n",
    "with open('labels.csv', newline='') as csvfile:\n",
    "    label_reader = csv.reader(csvfile, delimiter=',')\n",
    "    for row in label_reader:\n",
    "        for label in row:\n",
    "            all_track_labels.append(label[2:-2])\n",
    "all_track_labels = np.array([all_track_labels]).T"
   ]
  },
  {
   "cell_type": "markdown",
   "metadata": {},
   "source": [
    "#### Prepoccessing "
   ]
  },
  {
   "cell_type": "code",
   "execution_count": 5,
   "metadata": {},
   "outputs": [
    {
     "name": "stdout",
     "output_type": "stream",
     "text": [
      "(1924, 10) (481, 10) (1924, 1) (481, 1)\n"
     ]
    }
   ],
   "source": [
    "X_train, X_val, y_train, y_val = train_test_split(all_track_data, all_track_labels, test_size=0.2)\n",
    "print(X_train.shape, X_val.shape, y_train.shape, y_val.shape)"
   ]
  },
  {
   "cell_type": "markdown",
   "metadata": {},
   "source": [
    "### Begin Classification Below on all_track_data and all_track_labels"
   ]
  },
  {
   "cell_type": "markdown",
   "metadata": {},
   "source": [
    "#### Decision Tree Classifier"
   ]
  },
  {
   "cell_type": "markdown",
   "metadata": {},
   "source": [
    "##### Create and Train Random Forrest Classifier"
   ]
  },
  {
   "cell_type": "code",
   "execution_count": 6,
   "metadata": {},
   "outputs": [
    {
     "data": {
      "text/plain": [
       "RandomForestClassifier(criterion='entropy', max_depth=12, max_features='sqrt')"
      ]
     },
     "execution_count": 6,
     "metadata": {},
     "output_type": "execute_result"
    }
   ],
   "source": [
    "depth = 12\n",
    "estimators = 100\n",
    "model = RandomForestClassifier(max_depth=depth, n_estimators=estimators, criterion='entropy', max_features='sqrt')\n",
    "model.fit(all_track_data, np.ravel(all_track_labels))\n",
    "\n"
   ]
  },
  {
   "cell_type": "markdown",
   "metadata": {},
   "source": [
    "##### Test on training and validation datasets"
   ]
  },
  {
   "cell_type": "code",
   "execution_count": 7,
   "metadata": {},
   "outputs": [
    {
     "name": "stdout",
     "output_type": "stream",
     "text": [
      "Training Accuracy: 0.8435550935550935\n",
      "Validation Accuracy: 0.8835758835758836\n"
     ]
    }
   ],
   "source": [
    "y_train_pred = model.predict(X_train)\n",
    "y_val_pred = model.predict(X_val)\n",
    "train_acc = accuracy(y_train, y_train_pred)\n",
    "val_acc = accuracy(y_val, y_val_pred)\n",
    "\n",
    "print(\"Training Accuracy:\", train_acc)\n",
    "print(\"Validation Accuracy:\", val_acc)"
   ]
  },
  {
   "cell_type": "markdown",
   "metadata": {},
   "source": [
    "##### Hyper-param tuning"
   ]
  },
  {
   "cell_type": "code",
   "execution_count": 9,
   "metadata": {},
   "outputs": [
    {
     "name": "stdout",
     "output_type": "stream",
     "text": [
      "Depth: 1 | Estimators: 1 | Accuracy 0.12266112266112267\n",
      "Depth: 1 | Estimators: 10 | Accuracy 0.15176715176715178\n",
      "Depth: 1 | Estimators: 30 | Accuracy 0.16424116424116425\n",
      "Depth: 1 | Estimators: 50 | Accuracy 0.1683991683991684\n",
      "Depth: 1 | Estimators: 80 | Accuracy 0.1704781704781705\n",
      "Depth: 1 | Estimators: 100 | Accuracy 0.1683991683991684\n",
      "Depth: 1 | Estimators: 150 | Accuracy 0.16216216216216217\n",
      "Depth: 3 | Estimators: 1 | Accuracy 0.1891891891891892\n",
      "Depth: 3 | Estimators: 10 | Accuracy 0.23492723492723494\n",
      "Depth: 3 | Estimators: 30 | Accuracy 0.22661122661122662\n",
      "Depth: 3 | Estimators: 50 | Accuracy 0.22661122661122662\n",
      "Depth: 3 | Estimators: 80 | Accuracy 0.24740124740124741\n",
      "Depth: 3 | Estimators: 100 | Accuracy 0.24324324324324326\n",
      "Depth: 3 | Estimators: 150 | Accuracy 0.2390852390852391\n",
      "Depth: 5 | Estimators: 1 | Accuracy 0.21205821205821207\n",
      "Depth: 5 | Estimators: 10 | Accuracy 0.3097713097713098\n",
      "Depth: 5 | Estimators: 30 | Accuracy 0.31392931392931395\n",
      "Depth: 5 | Estimators: 50 | Accuracy 0.32224532224532226\n",
      "Depth: 5 | Estimators: 80 | Accuracy 0.3305613305613306\n",
      "Depth: 5 | Estimators: 100 | Accuracy 0.32432432432432434\n",
      "Depth: 5 | Estimators: 150 | Accuracy 0.3264033264033264\n",
      "Depth: 10 | Estimators: 1 | Accuracy 0.5135135135135135\n",
      "Depth: 10 | Estimators: 10 | Accuracy 0.8212058212058212\n",
      "Depth: 10 | Estimators: 30 | Accuracy 0.8336798336798337\n",
      "Depth: 10 | Estimators: 50 | Accuracy 0.8440748440748441\n",
      "Depth: 10 | Estimators: 80 | Accuracy 0.8565488565488566\n",
      "Depth: 10 | Estimators: 100 | Accuracy 0.841995841995842\n",
      "Depth: 10 | Estimators: 150 | Accuracy 0.8461538461538461\n",
      "Depth: 12 | Estimators: 1 | Accuracy 0.5883575883575883\n",
      "Depth: 12 | Estimators: 10 | Accuracy 0.8607068607068608\n",
      "Depth: 12 | Estimators: 30 | Accuracy 0.8648648648648649\n",
      "Depth: 12 | Estimators: 50 | Accuracy 0.8752598752598753\n",
      "Depth: 12 | Estimators: 80 | Accuracy 0.8627858627858628\n",
      "Depth: 12 | Estimators: 100 | Accuracy 0.8690228690228691\n",
      "Depth: 12 | Estimators: 150 | Accuracy 0.8669438669438669\n",
      "Depth: 15 | Estimators: 1 | Accuracy 0.6486486486486487\n",
      "Depth: 15 | Estimators: 10 | Accuracy 0.8711018711018711\n",
      "Depth: 15 | Estimators: 30 | Accuracy 0.8607068607068608\n",
      "Depth: 15 | Estimators: 50 | Accuracy 0.8690228690228691\n",
      "Depth: 15 | Estimators: 80 | Accuracy 0.8877338877338877\n",
      "Depth: 15 | Estimators: 100 | Accuracy 0.8690228690228691\n",
      "Depth: 15 | Estimators: 150 | Accuracy 0.8814968814968815\n",
      "Depth: 20 | Estimators: 1 | Accuracy 0.5945945945945946\n",
      "Depth: 20 | Estimators: 10 | Accuracy 0.8586278586278586\n",
      "Depth: 20 | Estimators: 30 | Accuracy 0.8773388773388774\n",
      "Depth: 20 | Estimators: 50 | Accuracy 0.8523908523908524\n",
      "Depth: 20 | Estimators: 80 | Accuracy 0.8648648648648649\n",
      "Depth: 20 | Estimators: 100 | Accuracy 0.8565488565488566\n",
      "Depth: 20 | Estimators: 150 | Accuracy 0.8586278586278586\n",
      "Best Parameters and Accuracy:\n",
      "Depth: 15 | Estimators: 80 | Accuracy 0.8877338877338877\n"
     ]
    }
   ],
   "source": [
    "depths = [1, 3, 5, 10, 12, 15, 20]\n",
    "estimators = [1, 10, 30, 50, 80, 100, 150]\n",
    "\n",
    "best_params = (0, 0)\n",
    "best_accuracy = 0\n",
    "for depth in depths:\n",
    "    for estimator in estimators:\n",
    "        model = RandomForestClassifier(max_depth=depth, n_estimators=estimator, criterion='entropy', max_features='sqrt')\n",
    "        model.fit(all_track_data, np.ravel(all_track_labels))\n",
    "        y_pred = model.predict(X_val)\n",
    "        val_acc = accuracy(y_val, y_pred)\n",
    "        print(\"Depth:\", depth, \"| Estimators:\", estimator, \"| Accuracy\", val_acc)\n",
    "        if val_acc > best_accuracy:\n",
    "            best_accuracy = val_acc\n",
    "            best_params = (depth, estimator)"
   ]
  },
  {
   "cell_type": "code",
   "execution_count": 10,
   "metadata": {},
   "outputs": [
    {
     "name": "stdout",
     "output_type": "stream",
     "text": [
      "Best Parameters and Accuracy:\n",
      "Depth: 15 | Estimators: 80 | Accuracy 0.8877338877338877\n"
     ]
    }
   ],
   "source": [
    "print(\"Best Parameters and Accuracy:\")\n",
    "print(\"Depth:\", best_params[0], \"| Estimators:\", best_params[1], \"| Accuracy\", best_accuracy)"
   ]
  },
  {
   "cell_type": "markdown",
   "metadata": {},
   "source": [
    "#### Something else"
   ]
  },
  {
   "cell_type": "markdown",
   "metadata": {},
   "source": []
  }
 ],
 "metadata": {
  "kernelspec": {
   "display_name": "Python 3.8.3 64-bit",
   "language": "python",
   "name": "python3"
  },
  "language_info": {
   "codemirror_mode": {
    "name": "ipython",
    "version": 3
   },
   "file_extension": ".py",
   "mimetype": "text/x-python",
   "name": "python",
   "nbconvert_exporter": "python",
   "pygments_lexer": "ipython3",
   "version": "3.8.3"
  },
  "orig_nbformat": 4,
  "vscode": {
   "interpreter": {
    "hash": "aee8b7b246df8f9039afb4144a1f6fd8d2ca17a180786b69acc140d282b71a49"
   }
  }
 },
 "nbformat": 4,
 "nbformat_minor": 2
}
