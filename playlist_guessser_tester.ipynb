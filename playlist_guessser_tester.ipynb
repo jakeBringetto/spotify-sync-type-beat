{
 "cells": [
  {
   "cell_type": "code",
   "execution_count": 2,
   "metadata": {},
   "outputs": [],
   "source": [
    "from dotenv import load_dotenv\n",
    "import spotipy\n",
    "from spotipy.oauth2 import SpotifyOAuth\n",
    "import numpy as np"
   ]
  },
  {
   "cell_type": "code",
   "execution_count": 3,
   "metadata": {},
   "outputs": [],
   "source": [
    "def extract_track_features(results):\n",
    "    curr_tracklist = []\n",
    "    for i, item in enumerate(results['items']):\n",
    "        track = item['track']\n",
    "        if track:\n",
    "            curr_tracklist.append(sp.audio_features(track['uri'])[0])\n",
    "    return curr_tracklist\n",
    "\n",
    "def formulate_feature_data(track):\n",
    "    if track:\n",
    "        acousticness = track['acousticness']\n",
    "        danceability = track['danceability']\n",
    "        energy = track['energy']\n",
    "        key = track['key']\n",
    "        loudness = track['loudness']\n",
    "        speechiness = track['speechiness']\n",
    "        instrumentalness = track['instrumentalness']\n",
    "        liveness = track['liveness']\n",
    "        valence = track['valence']\n",
    "        tempo = track['tempo']\n",
    "\n",
    "        track_data = [acousticness, danceability, energy, key, loudness, \n",
    "        speechiness, instrumentalness, liveness, valence, tempo]\n",
    "\n",
    "        return track_data\n",
    "    else:\n",
    "        return None"
   ]
  },
  {
   "cell_type": "code",
   "execution_count": 4,
   "metadata": {},
   "outputs": [],
   "source": [
    "    load_dotenv()\n",
    "    scope = 'playlist-modify-public'\n",
    "    sp = spotipy.Spotify(auth_manager=SpotifyOAuth(scope=scope))\n",
    "    playlists = sp.current_user_playlists()\n",
    "    user_id = sp.me()['id']"
   ]
  },
  {
   "cell_type": "code",
   "execution_count": 5,
   "metadata": {},
   "outputs": [
    {
     "name": "stderr",
     "output_type": "stream",
     "text": [
      "Expected id of type track but found type Fred+Again+%40+the+Boiler+room+London%2C+can+anyone+identify+this+tune_ spotify:local:::Fred+Again+%40+the+Boiler+room+London%2C+can+anyone+identify+this+tune_:204\n",
      "Expected id of type track but found type Y2Mate.is+-+Foolio+%E2%80%9CWhen+I+See+You%E2%80%9D+Remix+Official+Video-yJqu246RVlc-160k-1642343254580 spotify:local:::Y2Mate.is+-+Foolio+%E2%80%9CWhen+I+See+You%E2%80%9D+Remix+Official+Video-yJqu246RVlc-160k-1642343254580:187\n",
      "Expected id of type track but found type Y2Mate.is+-+Foolio+%E2%80%9CBeatbox+RemixBibby+Flow%E2%80%9D+FT+COJACK-4EhaVpJ8l9o-160k-1642531532111 spotify:local:::Y2Mate.is+-+Foolio+%E2%80%9CBeatbox+RemixBibby+Flow%E2%80%9D+FT+COJACK-4EhaVpJ8l9o-160k-1642531532111:287\n",
      "Expected id of type track but found type OnlyMP3.net+-+Foolio+-+List+Of+Dead+Opps+%28Official+Music+Video%29-VFwqVw_zq7Y-192k-1637205126188 spotify:local:::OnlyMP3.net+-+Foolio+-+List+Of+Dead+Opps+%28Official+Music+Video%29-VFwqVw_zq7Y-192k-1637205126188:219\n",
      "Expected id of type track but found type Moon+%28feat.+Don+Toliver+%26+Kid+Cudi%29 spotify:local:Kanye+West:Donda:Moon+%28feat.+Don+Toliver+%26+Kid+Cudi%29:167\n",
      "Expected id of type track but found type Hurricane+%28feat.+The+Weeknd+%26+Lil+Baby%29 spotify:local:Kanye+West:Donda:Hurricane+%28feat.+The+Weeknd+%26+Lil+Baby%29:242\n",
      "Expected id of type track but found type Bunny+Girl+Senpai+ED+Fukashigi+no+Carte+%5B+Lofi+Remix+%5D spotify:local:::Bunny+Girl+Senpai+ED+Fukashigi+no+Carte+%5B+Lofi+Remix+%5D:249\n",
      "Expected id of type track but found type 916frosty+-+lullaby+baby spotify:local:::916frosty+-+lullaby+baby:266\n",
      "Expected id of type track but found type Juice+WRLD+-+Space+Travelling+ft.+XXXTentacion+%28music+video%29+Prod.+BeatsbyAdz spotify:local:::Juice+WRLD+-+Space+Travelling+ft.+XXXTentacion+%28music+video%29+Prod.+BeatsbyAdz:180\n",
      "Expected id of type track but found type Demeanor spotify:local:Pop+Smoke:Demeanor:Demeanor:185\n",
      "Expected id of type track but found type Praise+God+%28feat.+Travis+Scott+%26+Baby+Keem%29 spotify:local:Kanye+West:Donda:Praise+God+%28feat.+Travis+Scott+%26+Baby+Keem%29:225\n",
      "Expected id of type track but found type I%27m+Not+Okay+%28feat.+Lil+Yachty+%26+Rooga%29 spotify:local:Kanye+West:Donda:I%27m+Not+Okay+%28feat.+Lil+Yachty+%26+Rooga%29:214\n",
      "Expected id of type track but found type Junya+%28feat.+Playboi+Carti%29 spotify:local:Kanye+West:Donda:Junya+%28feat.+Playboi+Carti%29:170\n",
      "Expected id of type track but found type Off+the+Grid+%28feat.+Playboi+Carti+%26+Fivio+Foreign%29 spotify:local:Kanye+West:Donda:Off+the+Grid+%28feat.+Playboi+Carti+%26+Fivio+Foreign%29:280\n",
      "Expected id of type track but found type No+Child+Left+Behind+%28feat.+Vory%29 spotify:local:Kanye+West:Donda:No+Child+Left+Behind+%28feat.+Vory%29:179\n",
      "Expected id of type track but found type Loui+-+Shake+Dat+%28feat.+Lil+Jay%29+Remix spotify:local:::Loui+-+Shake+Dat+%28feat.+Lil+Jay%29+Remix:184\n",
      "Expected id of type track but found type Taylor+Swift+-+Love+Story+%28Lyrics%29+Disco+Lines+Full+Remix+%5BTikTok+song%5D spotify:local:::Taylor+Swift+-+Love+Story+%28Lyrics%29+Disco+Lines+Full+Remix+%5BTikTok+song%5D:154\n",
      "Expected id of type track but found type Travi%24+Scott+-+Drugs+You+Should+Try+%5BDays+Before+Rodeo%5D spotify:local:::Travi%24+Scott+-+Drugs+You+Should+Try+%5BDays+Before+Rodeo%5D:210\n",
      "Expected id of type track but found type Andmesh+-+Hanya+Rindu+%5BENGLISH+%2B+INDONESIAN+DUET+VERSION%5D spotify:local:::Andmesh+-+Hanya+Rindu+%5BENGLISH+%2B+INDONESIAN+DUET+VERSION%5D:224\n",
      "Expected id of type track but found type Taylor+Swift+-+Love+Story+%28Lyrics%29+Disco+Lines+Full+Remix+%5BTikTok+song%5D spotify:local:::Taylor+Swift+-+Love+Story+%28Lyrics%29+Disco+Lines+Full+Remix+%5BTikTok+song%5D:154\n",
      "Expected id of type track but found type Bunny+Girl+Senpai+ED+Fukashigi+no+Carte+%5B+Lofi+Remix+%5D spotify:local:::Bunny+Girl+Senpai+ED+Fukashigi+no+Carte+%5B+Lofi+Remix+%5D:249\n",
      "Expected id of type track but found type Travi%24+Scott+-+Drugs+You+Should+Try+%5BDays+Before+Rodeo%5D spotify:local:::Travi%24+Scott+-+Drugs+You+Should+Try+%5BDays+Before+Rodeo%5D:210\n",
      "Expected id of type track but found type Juice+WRLD+Demon+love spotify:local:::Juice+WRLD+Demon+love:203\n",
      "Expected id of type track but found type Travis+Scott+-+Skyfall+ft.+Young+Thug spotify:local:::Travis+Scott+-+Skyfall+ft.+Young+Thug:318\n",
      "Expected id of type track but found type Juice+WRLD+Rainbow+%28Official+Audio%29 spotify:local:::Juice+WRLD+Rainbow+%28Official+Audio%29:235\n",
      "Expected id of type track but found type Juice+WRLD+-+RUN+%28REUPLOAD%29 spotify:local:::Juice+WRLD+-+RUN+%28REUPLOAD%29:185\n",
      "Expected id of type track but found type Travis+Scott+-+Basement+Freestyle spotify:local:::Travis+Scott+-+Basement+Freestyle:247\n",
      "Expected id of type track but found type Travis+Scott+-+Sloppy+Toppy+ft.+Migos+%26+Peewee+Longway spotify:local:::Travis+Scott+-+Sloppy+Toppy+ft.+Migos+%26+Peewee+Longway:274\n",
      "Expected id of type track but found type Travis+Scott+-+The+Prayer spotify:local:::Travis+Scott+-+The+Prayer:202\n",
      "Expected id of type track but found type 916frosty+-+lullaby+baby spotify:local:::916frosty+-+lullaby+baby:266\n",
      "Expected id of type track but found type Juice+WRLD+Demon+love spotify:local:::Juice+WRLD+Demon+love:203\n",
      "Expected id of type track but found type Travis+Scott+-+Skyfall+ft.+Young+Thug spotify:local:::Travis+Scott+-+Skyfall+ft.+Young+Thug:318\n",
      "Expected id of type track but found type Juice+WRLD+Rainbow+%28Official+Audio%29 spotify:local:::Juice+WRLD+Rainbow+%28Official+Audio%29:235\n",
      "Expected id of type track but found type Travi%24+Scott+-+Drugs+You+Should+Try+%5BDays+Before+Rodeo%5D spotify:local:::Travi%24+Scott+-+Drugs+You+Should+Try+%5BDays+Before+Rodeo%5D:210\n",
      "Expected id of type track but found type Travis+Scott+-+Swang+ft.+Rae+Sremmurd spotify:local:::Travis+Scott+-+Swang+ft.+Rae+Sremmurd:315\n",
      "Expected id of type track but found type Loui+-+Shake+Dat+%28feat.+Lil+Jay%29+Remix spotify:local:::Loui+-+Shake+Dat+%28feat.+Lil+Jay%29+Remix:184\n"
     ]
    }
   ],
   "source": [
    "    all_track_data = []\n",
    "    all_track_labels = []\n",
    "    for playlist in playlists['items']:\n",
    "        name = playlist['name']\n",
    "        if name != \"Everything\" and playlist['owner']['id'] == user_id:\n",
    "            results = sp.playlist(playlist['id'], fields=\"tracks,next\")\n",
    "            tracks = results['tracks']\n",
    "\n",
    "            track_features = []\n",
    "            track_features.extend(extract_track_features(tracks))\n",
    "            while tracks['next']:\n",
    "                tracks = sp.next(tracks)\n",
    "                track_features.extend(extract_track_features(tracks))\n",
    "\n",
    "            track_data = []\n",
    "            for track in track_features:\n",
    "                data = formulate_feature_data(track)\n",
    "                if data:\n",
    "                    track_data.append(data)\n",
    "            if len(track_data) > 0:\n",
    "                all_track_data.extend(track_data)\n",
    "                all_track_labels.extend([name for _ in range(len(track_data))])"
   ]
  },
  {
   "cell_type": "code",
   "execution_count": 6,
   "metadata": {},
   "outputs": [
    {
     "name": "stdout",
     "output_type": "stream",
     "text": [
      "(2405, 10) (2405, 1)\n"
     ]
    }
   ],
   "source": [
    "all_track_data = np.array(all_track_data)\n",
    "all_track_labels = np.array([all_track_labels]).T\n",
    "print(all_track_data.shape, all_track_labels.shape)"
   ]
  },
  {
   "cell_type": "markdown",
   "metadata": {},
   "source": [
    "#### Prepoccessing "
   ]
  },
  {
   "cell_type": "code",
   "execution_count": null,
   "metadata": {},
   "outputs": [],
   "source": []
  },
  {
   "cell_type": "markdown",
   "metadata": {},
   "source": [
    "### Begin Classification Below on all_track_data and all_track_labels"
   ]
  },
  {
   "cell_type": "markdown",
   "metadata": {},
   "source": [
    "#### Decision Tree Classifier"
   ]
  },
  {
   "cell_type": "code",
   "execution_count": null,
   "metadata": {},
   "outputs": [],
   "source": []
  },
  {
   "cell_type": "markdown",
   "metadata": {},
   "source": [
    "#### Something else"
   ]
  },
  {
   "cell_type": "markdown",
   "metadata": {},
   "source": []
  }
 ],
 "metadata": {
  "kernelspec": {
   "display_name": "Python 3.8.3 64-bit",
   "language": "python",
   "name": "python3"
  },
  "language_info": {
   "codemirror_mode": {
    "name": "ipython",
    "version": 3
   },
   "file_extension": ".py",
   "mimetype": "text/x-python",
   "name": "python",
   "nbconvert_exporter": "python",
   "pygments_lexer": "ipython3",
   "version": "3.8.3"
  },
  "orig_nbformat": 4,
  "vscode": {
   "interpreter": {
    "hash": "aee8b7b246df8f9039afb4144a1f6fd8d2ca17a180786b69acc140d282b71a49"
   }
  }
 },
 "nbformat": 4,
 "nbformat_minor": 2
}
