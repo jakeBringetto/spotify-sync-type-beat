{
 "cells": [
  {
   "cell_type": "code",
   "execution_count": 1,
   "metadata": {},
   "outputs": [],
   "source": [
    "from dotenv import load_dotenv\n",
    "import spotipy\n",
    "from spotipy.oauth2 import SpotifyOAuth\n",
    "import numpy as np\n",
    "from numpy import loadtxt\n",
    "import csv\n",
    "from sklearn.ensemble import RandomForestClassifier\n",
    "from sklearn.model_selection import train_test_split"
   ]
  },
  {
   "cell_type": "code",
   "execution_count": 2,
   "metadata": {},
   "outputs": [],
   "source": [
    "load_dotenv()\n",
    "scope = 'playlist-modify-public'\n",
    "sp = spotipy.Spotify(auth_manager=SpotifyOAuth(scope=scope))\n",
    "playlists = sp.current_user_playlists()\n",
    "user_id = sp.me()['id']\n",
    "\n",
    "def accuracy(true, pred):\n",
    "    correct = 0\n",
    "    for i in range(len(true)):\n",
    "        if true[i] == pred[i]:\n",
    "            correct += 1\n",
    "    return correct/len(true)"
   ]
  },
  {
   "cell_type": "code",
   "execution_count": 3,
   "metadata": {},
   "outputs": [],
   "source": [
    "all_track_data = loadtxt('data.csv', delimiter=',')\n",
    "all_track_labels = []\n",
    "with open('labels.csv', newline='') as csvfile:\n",
    "    label_reader = csv.reader(csvfile, delimiter=',')\n",
    "    for row in label_reader:\n",
    "        for label in row:\n",
    "            all_track_labels.append(label[2:-2])\n",
    "all_track_labels = np.array([all_track_labels]).T"
   ]
  },
  {
   "cell_type": "markdown",
   "metadata": {},
   "source": [
    "#### Prepoccessing "
   ]
  },
  {
   "cell_type": "code",
   "execution_count": 4,
   "metadata": {},
   "outputs": [
    {
     "name": "stdout",
     "output_type": "stream",
     "text": [
      "(1931, 11) (483, 11) (1931, 1) (483, 1)\n"
     ]
    }
   ],
   "source": [
    "X_train, X_val, y_train, y_val = train_test_split(all_track_data, all_track_labels, test_size=0.2)\n",
    "print(X_train.shape, X_val.shape, y_train.shape, y_val.shape)"
   ]
  },
  {
   "cell_type": "markdown",
   "metadata": {},
   "source": [
    "### Begin Classification Below on all_track_data and all_track_labels"
   ]
  },
  {
   "cell_type": "markdown",
   "metadata": {},
   "source": [
    "#### Decision Tree Classifier"
   ]
  },
  {
   "cell_type": "markdown",
   "metadata": {},
   "source": [
    "##### Create and Train Random Forrest Classifier"
   ]
  },
  {
   "cell_type": "code",
   "execution_count": 5,
   "metadata": {},
   "outputs": [
    {
     "data": {
      "text/plain": [
       "RandomForestClassifier(criterion='entropy', max_depth=12, max_features='sqrt')"
      ]
     },
     "execution_count": 5,
     "metadata": {},
     "output_type": "execute_result"
    }
   ],
   "source": [
    "depth = 12\n",
    "estimators = 100\n",
    "model = RandomForestClassifier(max_depth=depth, n_estimators=estimators, criterion='entropy', max_features='sqrt')\n",
    "model.fit(all_track_data, np.ravel(all_track_labels))\n",
    "\n"
   ]
  },
  {
   "cell_type": "markdown",
   "metadata": {},
   "source": [
    "##### Test on training and validation datasets"
   ]
  },
  {
   "cell_type": "code",
   "execution_count": 6,
   "metadata": {},
   "outputs": [
    {
     "name": "stdout",
     "output_type": "stream",
     "text": [
      "Training Accuracy: 0.8508544795442776\n",
      "Validation Accuracy: 0.8571428571428571\n"
     ]
    }
   ],
   "source": [
    "y_train_pred = model.predict(X_train)\n",
    "y_val_pred = model.predict(X_val)\n",
    "train_acc = accuracy(y_train, y_train_pred)\n",
    "val_acc = accuracy(y_val, y_val_pred)\n",
    "\n",
    "print(\"Training Accuracy:\", train_acc)\n",
    "print(\"Validation Accuracy:\", val_acc)"
   ]
  },
  {
   "cell_type": "markdown",
   "metadata": {},
   "source": [
    "##### Hyper-param tuning"
   ]
  },
  {
   "cell_type": "code",
   "execution_count": 7,
   "metadata": {},
   "outputs": [
    {
     "name": "stdout",
     "output_type": "stream",
     "text": [
      "Depth: 1 | Estimators: 1 | Accuracy 0.07867494824016563\n",
      "Depth: 1 | Estimators: 10 | Accuracy 0.11387163561076605\n",
      "Depth: 1 | Estimators: 30 | Accuracy 0.15320910973084886\n",
      "Depth: 1 | Estimators: 50 | Accuracy 0.16356107660455488\n",
      "Depth: 1 | Estimators: 80 | Accuracy 0.16356107660455488\n",
      "Depth: 1 | Estimators: 100 | Accuracy 0.16977225672877846\n",
      "Depth: 1 | Estimators: 150 | Accuracy 0.16563146997929606\n",
      "Depth: 3 | Estimators: 1 | Accuracy 0.13871635610766045\n",
      "Depth: 3 | Estimators: 10 | Accuracy 0.23395445134575568\n",
      "Depth: 3 | Estimators: 30 | Accuracy 0.23809523809523808\n",
      "Depth: 3 | Estimators: 50 | Accuracy 0.22981366459627328\n",
      "Depth: 3 | Estimators: 80 | Accuracy 0.2484472049689441\n",
      "Depth: 3 | Estimators: 100 | Accuracy 0.2525879917184265\n",
      "Depth: 3 | Estimators: 150 | Accuracy 0.2463768115942029\n",
      "Depth: 5 | Estimators: 1 | Accuracy 0.2712215320910973\n",
      "Depth: 5 | Estimators: 10 | Accuracy 0.30434782608695654\n",
      "Depth: 5 | Estimators: 30 | Accuracy 0.33747412008281574\n",
      "Depth: 5 | Estimators: 50 | Accuracy 0.32919254658385094\n",
      "Depth: 5 | Estimators: 80 | Accuracy 0.3146997929606625\n",
      "Depth: 5 | Estimators: 100 | Accuracy 0.32091097308488614\n",
      "Depth: 5 | Estimators: 150 | Accuracy 0.32712215320910976\n",
      "Depth: 10 | Estimators: 1 | Accuracy 0.484472049689441\n",
      "Depth: 10 | Estimators: 10 | Accuracy 0.7619047619047619\n",
      "Depth: 10 | Estimators: 30 | Accuracy 0.8198757763975155\n",
      "Depth: 10 | Estimators: 50 | Accuracy 0.8322981366459627\n",
      "Depth: 10 | Estimators: 80 | Accuracy 0.8281573498964804\n",
      "Depth: 10 | Estimators: 100 | Accuracy 0.8405797101449275\n",
      "Depth: 10 | Estimators: 150 | Accuracy 0.8385093167701864\n",
      "Depth: 12 | Estimators: 1 | Accuracy 0.5962732919254659\n",
      "Depth: 12 | Estimators: 10 | Accuracy 0.8530020703933747\n",
      "Depth: 12 | Estimators: 30 | Accuracy 0.855072463768116\n",
      "Depth: 12 | Estimators: 50 | Accuracy 0.8509316770186336\n",
      "Depth: 12 | Estimators: 80 | Accuracy 0.8612836438923396\n",
      "Depth: 12 | Estimators: 100 | Accuracy 0.8571428571428571\n",
      "Depth: 12 | Estimators: 150 | Accuracy 0.8530020703933747\n",
      "Depth: 15 | Estimators: 1 | Accuracy 0.6045548654244306\n",
      "Depth: 15 | Estimators: 10 | Accuracy 0.84472049689441\n",
      "Depth: 15 | Estimators: 30 | Accuracy 0.8530020703933747\n",
      "Depth: 15 | Estimators: 50 | Accuracy 0.8633540372670807\n",
      "Depth: 15 | Estimators: 80 | Accuracy 0.8674948240165632\n",
      "Depth: 15 | Estimators: 100 | Accuracy 0.8488612836438924\n",
      "Depth: 15 | Estimators: 150 | Accuracy 0.8364389233954451\n",
      "Depth: 20 | Estimators: 1 | Accuracy 0.6190476190476191\n",
      "Depth: 20 | Estimators: 10 | Accuracy 0.8467908902691511\n",
      "Depth: 20 | Estimators: 30 | Accuracy 0.8281573498964804\n",
      "Depth: 20 | Estimators: 50 | Accuracy 0.8467908902691511\n",
      "Depth: 20 | Estimators: 80 | Accuracy 0.8302277432712215\n",
      "Depth: 20 | Estimators: 100 | Accuracy 0.8509316770186336\n",
      "Depth: 20 | Estimators: 150 | Accuracy 0.8530020703933747\n"
     ]
    }
   ],
   "source": [
    "depths = [1, 3, 5, 10, 12, 15, 20]\n",
    "estimators = [1, 10, 30, 50, 80, 100, 150]\n",
    "\n",
    "best_params = (0, 0)\n",
    "best_accuracy = 0\n",
    "for depth in depths:\n",
    "    for estimator in estimators:\n",
    "        model = RandomForestClassifier(max_depth=depth, n_estimators=estimator, criterion='entropy', max_features='sqrt')\n",
    "        model.fit(all_track_data, np.ravel(all_track_labels))\n",
    "        y_pred = model.predict(X_val)\n",
    "        val_acc = accuracy(y_val, y_pred)\n",
    "        print(\"Depth:\", depth, \"| Estimators:\", estimator, \"| Accuracy\", val_acc)\n",
    "        if val_acc > best_accuracy:\n",
    "            best_accuracy = val_acc\n",
    "            best_params = (depth, estimator)"
   ]
  },
  {
   "cell_type": "code",
   "execution_count": 8,
   "metadata": {},
   "outputs": [
    {
     "name": "stdout",
     "output_type": "stream",
     "text": [
      "Best Parameters and Accuracy:\n",
      "Depth: 15 | Estimators: 80 | Accuracy 0.8674948240165632\n"
     ]
    }
   ],
   "source": [
    "print(\"Best Parameters and Accuracy:\")\n",
    "print(\"Depth:\", best_params[0], \"| Estimators:\", best_params[1], \"| Accuracy\", best_accuracy)"
   ]
  },
  {
   "cell_type": "markdown",
   "metadata": {},
   "source": [
    "#### Multiclass SVM\n"
   ]
  },
  {
   "cell_type": "code",
   "execution_count": 9,
   "metadata": {},
   "outputs": [],
   "source": [
    "all_track_data = loadtxt('data.csv', delimiter=',')\n",
    "all_track_labels = []\n",
    "with open('labels.csv', newline='') as csvfile:\n",
    "    label_reader = csv.reader(csvfile, delimiter=',')\n",
    "    for row in label_reader:\n",
    "        for label in row:\n",
    "            all_track_labels.append(label[2:-2])\n",
    "all_track_labels = np.array([all_track_labels]).T"
   ]
  },
  {
   "cell_type": "markdown",
   "metadata": {},
   "source": []
  }
 ],
 "metadata": {
  "kernelspec": {
   "display_name": "Python 3.8.3 64-bit",
   "language": "python",
   "name": "python3"
  },
  "language_info": {
   "codemirror_mode": {
    "name": "ipython",
    "version": 3
   },
   "file_extension": ".py",
   "mimetype": "text/x-python",
   "name": "python",
   "nbconvert_exporter": "python",
   "pygments_lexer": "ipython3",
   "version": "3.8.3 (v3.8.3:6f8c8320e9, May 13 2020, 16:29:34) \n[Clang 6.0 (clang-600.0.57)]"
  },
  "orig_nbformat": 4,
  "vscode": {
   "interpreter": {
    "hash": "aee8b7b246df8f9039afb4144a1f6fd8d2ca17a180786b69acc140d282b71a49"
   }
  }
 },
 "nbformat": 4,
 "nbformat_minor": 2
}
